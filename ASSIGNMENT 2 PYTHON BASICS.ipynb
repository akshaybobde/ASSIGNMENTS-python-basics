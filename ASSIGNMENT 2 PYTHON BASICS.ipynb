{
 "cells": [
  {
   "cell_type": "raw",
   "id": "4f3cb6f4",
   "metadata": {},
   "source": [
    "1.What are the two values of the Boolean data type? How do you write them?\n",
    "ANSWER: True and False, using capital T and F, with the rest of the word in lowercase."
   ]
  },
  {
   "cell_type": "raw",
   "id": "4250636b",
   "metadata": {},
   "source": [
    "2. What are the three different types of Boolean operators?\n",
    "ANSWER:  and, or, and not."
   ]
  },
  {
   "cell_type": "raw",
   "id": "eb539fd0",
   "metadata": {},
   "source": [
    "3. Make a list of each Boolean operator's truth tables (i.e. every possible combination of Boolean\n",
    "values for the operator and what it evaluate ).\n",
    "\n",
    "ANSWER:True and True is True.\n",
    "True and False is False.\n",
    "False and True is False.\n",
    "False and False is False.\n",
    "True or True is True.\n",
    "True or False is True.\n",
    "False or True is True.\n",
    "False or False is False.\n",
    "not True is False.\n",
    "not False is True."
   ]
  },
  {
   "cell_type": "raw",
   "id": "33354f8b",
   "metadata": {},
   "source": [
    "4. What are the values of the following expressions?\n",
    "(5 > 4) and (3 == 5)\n",
    "not (5 > 4)\n",
    "(5 > 4) or (3 == 5)\n",
    "not ((5 &gt; 4) or (3 == 5))\n",
    "(True and True) and (True == False)\n",
    "(not False) or (not True)\n",
    "\n",
    "ANSWWER:False\n",
    "False\n",
    "True\n",
    "False\n",
    "False\n",
    "True"
   ]
  },
  {
   "cell_type": "raw",
   "id": "8633daa3",
   "metadata": {},
   "source": [
    "5. What are the six comparison operators?\n",
    "ANSWER: ==, !=, <,>,<=,and >="
   ]
  },
  {
   "cell_type": "raw",
   "id": "ad852f95",
   "metadata": {},
   "source": [
    "6. How do you tell the difference between the equal to and assignment operators?Describe a\n",
    "condition and when you would use one.\n",
    "\n",
    "ANSWER:  ==  compares two values and evaluates to a Boolean, while = is the assignment operator that stores a value in a variable."
   ]
  },
  {
   "cell_type": "raw",
   "id": "226a8348",
   "metadata": {},
   "source": [
    "7. Identify the three blocks in this code:\n",
    "spam = 0\n",
    "if spam == 10:\n",
    "print(eggs)\n",
    "if spam > 5:\n",
    "print(bacon)\n",
    "else:\n",
    "print(ham)\n",
    "print(spam)\n",
    "print(spam)\n",
    "\n",
    "ANSWER: \n",
    "\n",
    "1ST BLOCK:\n",
    "if spam == 10:\n",
    "print(eggs)\n",
    "if spam > 5:\n",
    "print(bacon)\n",
    "\n",
    "\n",
    "2ND BLOCK:  \n",
    "if spam > 5:\n",
    "print(bacon)\n",
    "\n",
    "\n",
    "3RD BLOCK: \n",
    "else:\n",
    "print(ham)\n",
    "print(spam)\n",
    "print(spam)"
   ]
  },
  {
   "cell_type": "raw",
   "id": "1a22bb9d",
   "metadata": {},
   "source": [
    "8. Write code that prints Hello if 1 is stored in spam, prints Howdy if 2 is stored in spam, and prints\n",
    "Greetings! if anything else is stored in spam.\n",
    "\n",
    "ANSWER:if spam == 1:\n",
    "print('Hello')\n",
    "elif spam == 2:\n",
    "print('Howdy')\n",
    "else:\n",
    "print('Greetings!')"
   ]
  },
  {
   "cell_type": "raw",
   "id": "51f63566",
   "metadata": {},
   "source": [
    "9.If your programme is stuck in an endless loop, what keys you’ll press?\n",
    "\n",
    "ANSWER:\n",
    "Press ctrl-C to stop a program stuck in an infinite loop."
   ]
  },
  {
   "cell_type": "raw",
   "id": "620fee50",
   "metadata": {},
   "source": [
    "10. How can you tell the difference between break and continue?\n",
    "\n",
    "ANSWER:With the break statement we can stop the loop even if the condition is true,\n",
    "With the continue statement we can stop the current iteration, and continue with the next.\n"
   ]
  },
  {
   "cell_type": "raw",
   "id": "001d0f0c",
   "metadata": {},
   "source": [
    "11. In a for loop, what is the difference between range(10), range(0, 10), and range(0, 10, 1)?\n",
    "ANSWER: range(10)-no start position and step size\n",
    "        range(0,10)-start and end position given no step size\n",
    "        range(0,10,1)-start ,end,step size given"
   ]
  },
  {
   "cell_type": "raw",
   "id": "d6cd7c50",
   "metadata": {},
   "source": [
    "12. Write a short program that prints the numbers 1 to 10 using a for loop. Then write an equivalent\n",
    "program that prints the numbers 1 to 10 using a while loop.\n",
    "ANSWER:\n",
    "\n",
    "for i in range(11):\n",
    "            print(i)\n",
    "            \n",
    "    i=0\n",
    "    while i<=10:\n",
    "        print(i)\n",
    "        i=i+1    \n",
    "       \n",
    "            "
   ]
  },
  {
   "cell_type": "raw",
   "id": "f7eb1810",
   "metadata": {},
   "source": [
    "13. If you had a function named bacon() inside a module named spam, how would you call it after\n",
    "importing spam?\n",
    "ANSWER:spam. bacon()"
   ]
  }
 ],
 "metadata": {
  "kernelspec": {
   "display_name": "Python 3 (ipykernel)",
   "language": "python",
   "name": "python3"
  },
  "language_info": {
   "codemirror_mode": {
    "name": "ipython",
    "version": 3
   },
   "file_extension": ".py",
   "mimetype": "text/x-python",
   "name": "python",
   "nbconvert_exporter": "python",
   "pygments_lexer": "ipython3",
   "version": "3.9.13"
  }
 },
 "nbformat": 4,
 "nbformat_minor": 5
}
