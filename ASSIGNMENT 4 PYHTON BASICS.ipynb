{
 "cells": [
  {
   "cell_type": "raw",
   "id": "ce5828b5",
   "metadata": {},
   "source": [
    "1. What exactly is []?\n",
    "ANSWER: EMPTY list"
   ]
  },
  {
   "cell_type": "raw",
   "id": "4008bd16",
   "metadata": {},
   "source": [
    "2. In a list of values stored in a variable called spam, how would you assign the value hello; as the\n",
    "third value? (Assume [2, 4, 6, 8, 10] are in spam.)\n",
    "ANSWER:  spam=[2,4,6,8,10]\n",
    "            spam.append(\"hello\")"
   ]
  },
  {
   "cell_type": "raw",
   "id": "afdfb58c",
   "metadata": {},
   "source": [
    "Let's pretend the spam includes the list ['a','b','c','d'] for the next three queries.\n",
    "3. What is the value of spam[int(int('3'* 2) / 11)]?\n",
    "ANSWER:8\n",
    "\n",
    "\n",
    "4. What is the value of spam[-1]?\n",
    "ANSWER:['d']\n",
    "\n",
    "\n",
    "5. What is the value of spam[:2]?\n",
    "ANSWER:['a','b']"
   ]
  },
  {
   "cell_type": "raw",
   "id": "cd1e2719",
   "metadata": {},
   "source": [
    "Let's pretend bacon has the list [3.14,'cat', 11,'cat', True] for the next three questions.\n",
    "6. What is the value of bacon.index('cat')?\n",
    "ANSWER: 1\n",
    "7. How does bacon.append(99) change the look of the list value in bacon?\n",
    "ANSWER:[3.14, 'cat', 11, 'cat', True, 99]\n",
    "\n",
    "8. How does bacon.remove('cat') change the look of the list in bacon?\n",
    "ANSWER:[3.14, 11, 'cat', True, 99]\n"
   ]
  },
  {
   "cell_type": "raw",
   "id": "a341bfb9",
   "metadata": {},
   "source": [
    "9. What are the list concatenation and list replication operators?\n",
    "ANSWER:  The operator for list concatenation is + AND replication is *."
   ]
  },
  {
   "cell_type": "raw",
   "id": "c98c1838",
   "metadata": {},
   "source": [
    "10. What is difference between the list methods append() and insert()?\n",
    "ANSWER: append() will add values only to the end of a list, insert() can add them anywhere in the list."
   ]
  },
  {
   "cell_type": "raw",
   "id": "110b3e51",
   "metadata": {},
   "source": [
    "11. What are the two methods for removing items from a list?\n",
    "ANSWER:  pop(),remove()"
   ]
  },
  {
   "cell_type": "raw",
   "id": "0b1ab6ab",
   "metadata": {},
   "source": [
    "12. Describe how list values and string values are identical.\n",
    "ANSWER: Both are ordered, changeable, and allow duplicate values."
   ]
  },
  {
   "cell_type": "raw",
   "id": "1cea0ee6",
   "metadata": {},
   "source": [
    "13. What's the difference between tuples and lists?\n",
    "ANSWER:Tuple items are ordered, unchangeable, and allow duplicate values.\n",
    "List items are ordered, changeable, and allow duplicate values."
   ]
  },
  {
   "cell_type": "raw",
   "id": "63a17555",
   "metadata": {},
   "source": [
    "14. How do you type a tuple value that only contains the integer 42?\n",
    "ANSWER:  (42,)"
   ]
  },
  {
   "cell_type": "raw",
   "id": "edf19196",
   "metadata": {},
   "source": [
    "15. How do you get a list value's tuple form? How do you get a tuple value's list form?\n",
    "ANSWER:a=[1,2,3]\n",
    "b=tuple(a)\n",
    "\n",
    "\n",
    "a=(1,2,3)\n",
    "b=list(a)"
   ]
  },
  {
   "cell_type": "raw",
   "id": "cb1abddf",
   "metadata": {},
   "source": [
    "16. Variables that 'contain' list values are not necessarily lists themselves. Instead, what do they\n",
    "contain?\n",
    "ANSWER:Variables will contain references to list values rather than list values themselves. "
   ]
  },
  {
   "cell_type": "raw",
   "id": "023220f5",
   "metadata": {},
   "source": [
    "17. How do you distinguish between copy.copy() and copy.deepcopy()?\n",
    "ANSWER: the copy() returns a shallow copy of the list, and deepcopy() returns a deep copy of the list"
   ]
  }
 ],
 "metadata": {
  "kernelspec": {
   "display_name": "Python 3 (ipykernel)",
   "language": "python",
   "name": "python3"
  },
  "language_info": {
   "codemirror_mode": {
    "name": "ipython",
    "version": 3
   },
   "file_extension": ".py",
   "mimetype": "text/x-python",
   "name": "python",
   "nbconvert_exporter": "python",
   "pygments_lexer": "ipython3",
   "version": "3.9.13"
  }
 },
 "nbformat": 4,
 "nbformat_minor": 5
}
