{
 "cells": [
  {
   "cell_type": "raw",
   "id": "568c670b",
   "metadata": {},
   "source": [
    "1. In the below elements which of them are values or an expression? eg:- values can be\n",
    "integer or string and expressions will be mathematical operators.\n",
    "*\n",
    "&#39;hello&#39;\n",
    "-87.8\n",
    "-\n",
    "/\n",
    "+\n",
    "6\n",
    "\n",
    "ANSWER: values{-87.8,6,\"&#39;hello&#39\"}\n",
    "       expression{*,-,/,+}"
   ]
  },
  {
   "cell_type": "raw",
   "id": "decc77d0",
   "metadata": {},
   "source": [
    "2. What is the difference between string and variable?\n",
    "\n",
    "ANSWER:  a String is a type of information you would store in a Variable and Variable is a store of information."
   ]
  },
  {
   "cell_type": "raw",
   "id": "953bd593",
   "metadata": {},
   "source": [
    "3. Describe three different data types.\n",
    "\n",
    "Answer:Text Type:\tstr\n",
    "       Numeric Types:\tint, float, complex\n",
    "       Sequence Types:\tlist, tuple, range\n",
    "       Mapping Type:\tdict\n",
    "       Set Types:\tset, frozenset\n",
    "       Boolean Type:\tbool\n",
    "       Binary Types:\tbytes, bytearray, memoryview\n",
    "       None Type:\tNoneType\n"
   ]
  },
  {
   "cell_type": "raw",
   "id": "c136e28d",
   "metadata": {},
   "source": [
    "4. What is an expression made up of? What do all expressions do?\n",
    "Answer: A combination of operands and operators(+,-,/,*) \n",
    "        The expression in Python produces some value or result after being interpreted by the Python interpreter."
   ]
  },
  {
   "cell_type": "raw",
   "id": "4f97561b",
   "metadata": {},
   "source": [
    "5. This assignment statements, like spam = 10. What is the difference between an\n",
    "expression and a statement?\n",
    "\n",
    "Answer:“expression” is a combination of values and functions that are combined and interpreted by the compiler to create a new           value. \n",
    "\n",
    "        A statement is not evaluated for some results. A statement is used for creating variables or for displaying values.\n",
    "       “statement” is just a standalone unit of execution and doesn't return anything."
   ]
  },
  {
   "cell_type": "raw",
   "id": "c5e12dae",
   "metadata": {},
   "source": [
    "6. After running the following code, what does the variable bacon contain?\n",
    "bacon = 22\n",
    "bacon + 1\n",
    "\n",
    "Answer: bacon=22"
   ]
  },
  {
   "cell_type": "raw",
   "id": "a90d2c16",
   "metadata": {},
   "source": [
    "7. What should the values of the following two terms be?\n",
    "&#39;spam&#39; + &#39;spamspam&#39;\n",
    "&#39;spam&#39; * 3\n",
    "\n",
    "ANSWER: '&#39;spam&#39;&#39;spam&#39;&#39;spam&#39;'"
   ]
  },
  {
   "cell_type": "raw",
   "id": "84c9768b",
   "metadata": {},
   "source": [
    "8. Why is eggs a valid variable name while 100 is invalid?\n",
    "\n",
    "Answer: variable name cannot start with an interger"
   ]
  },
  {
   "cell_type": "raw",
   "id": "26098a28",
   "metadata": {},
   "source": [
    "9. What three functions can be used to get the integer, floating-point number, or string\n",
    "version of a value?\n",
    "\n",
    "Answer:int(),float(),str()"
   ]
  },
  {
   "cell_type": "raw",
   "id": "a405eb4d",
   "metadata": {},
   "source": [
    "10. Why does this expression cause an error? How can you fix it?\n",
    "&#39;I have eaten &#39; + 99 + &#39; burritos.&#39;\n",
    "\n",
    "Answwer: \"&#39;I have eaten &#39;\" + \" 99 \" + \"&#39; burritos.&#39;\""
   ]
  }
 ],
 "metadata": {
  "kernelspec": {
   "display_name": "Python 3 (ipykernel)",
   "language": "python",
   "name": "python3"
  },
  "language_info": {
   "codemirror_mode": {
    "name": "ipython",
    "version": 3
   },
   "file_extension": ".py",
   "mimetype": "text/x-python",
   "name": "python",
   "nbconvert_exporter": "python",
   "pygments_lexer": "ipython3",
   "version": "3.9.13"
  }
 },
 "nbformat": 4,
 "nbformat_minor": 5
}
