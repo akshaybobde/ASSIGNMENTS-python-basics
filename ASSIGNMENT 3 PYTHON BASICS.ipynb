{
 "cells": [
  {
   "cell_type": "raw",
   "id": "487995b2",
   "metadata": {},
   "source": [
    "1. Why are functions advantageous to have in your programs?\n",
    "ANSWER:  Functions reduce the need for duplicate code. This makes programs shorter, easier to read, and easier to update."
   ]
  },
  {
   "cell_type": "raw",
   "id": "86ed7a32",
   "metadata": {},
   "source": [
    "2. When does the code in a function run: when it's specified or when it's called?\n",
    "ANSWER: WHEN IT IS CALLED    "
   ]
  },
  {
   "cell_type": "raw",
   "id": "f1f0d970",
   "metadata": {},
   "source": [
    "3. What statement creates a function?\n",
    "ANSWER:  def creates a function"
   ]
  },
  {
   "cell_type": "raw",
   "id": "2d4a9ef8",
   "metadata": {},
   "source": [
    "4. What is the difference between a function and a function call?\n",
    "ANSWER:  A function consists of the def statement and the code in def clause.\n",
    "         A function call evaluates to the function's return value."
   ]
  },
  {
   "cell_type": "raw",
   "id": "79824b09",
   "metadata": {},
   "source": [
    "5. How many global scopes are there in a Python program? How many local scopes?\n",
    "ANSWER :  There is one global scope, and a local scope is created whenever a function is called."
   ]
  },
  {
   "cell_type": "raw",
   "id": "aa94500c",
   "metadata": {},
   "source": [
    "6. What happens to variables in a local scope when the function call returns?\n",
    "ANSWER:  When a function returns, the local scope is destroyed, and all the variables in it are forgotten."
   ]
  },
  {
   "cell_type": "raw",
   "id": "fda5ced5",
   "metadata": {},
   "source": [
    "7. What is the concept of a return value? Is it possible to have a return value in an expression?\n",
    "ANSWER:  A return value is the value that a function call evaluates.YES it is possible to have a return value in an expression"
   ]
  },
  {
   "cell_type": "raw",
   "id": "76397334",
   "metadata": {},
   "source": [
    "8. If a function does not have a return statement, what is the return value of a call to that function?\n",
    "ANSSWER:  If there is no return statement for a function, its return value is None."
   ]
  },
  {
   "cell_type": "raw",
   "id": "c93ed0b8",
   "metadata": {},
   "source": [
    "9. How do you make a function variable refer to the global variable?\n",
    "ANSWER: To create a global variable inside a function, you can use the global keyword."
   ]
  },
  {
   "cell_type": "raw",
   "id": "2500e156",
   "metadata": {},
   "source": [
    "10. What is the data type of None?\n",
    "ANSWER: Nonetype"
   ]
  },
  {
   "cell_type": "raw",
   "id": "ece797af",
   "metadata": {},
   "source": [
    "11. What does the sentence import areallyourpetsnamederic do?\n",
    "ANSWER:   That import statement imports a module named areallyourpetsnamederic."
   ]
  },
  {
   "cell_type": "raw",
   "id": "ffe23f37",
   "metadata": {},
   "source": [
    "12. If you had a bacon() feature in a spam module, what would you call it after importing spam?\n",
    "ANSWER:spam.bacon()"
   ]
  },
  {
   "cell_type": "raw",
   "id": "550c33b7",
   "metadata": {},
   "source": [
    "13. What can you do to save a programme from crashing if it encounters an error?\n",
    "ANSWER:"
   ]
  },
  {
   "cell_type": "raw",
   "id": "948f6003",
   "metadata": {},
   "source": [
    "14. What is the purpose of the try clause? What is the purpose of the except clause?\n",
    "ANSWER:The try block lets you test a block of code for errors. The except block lets you handle the error."
   ]
  }
 ],
 "metadata": {
  "kernelspec": {
   "display_name": "Python 3 (ipykernel)",
   "language": "python",
   "name": "python3"
  },
  "language_info": {
   "codemirror_mode": {
    "name": "ipython",
    "version": 3
   },
   "file_extension": ".py",
   "mimetype": "text/x-python",
   "name": "python",
   "nbconvert_exporter": "python",
   "pygments_lexer": "ipython3",
   "version": "3.9.13"
  }
 },
 "nbformat": 4,
 "nbformat_minor": 5
}
