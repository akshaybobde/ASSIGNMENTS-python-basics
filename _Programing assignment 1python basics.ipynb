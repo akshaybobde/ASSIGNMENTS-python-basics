{
 "cells": [
  {
   "cell_type": "raw",
   "id": "2433cda4",
   "metadata": {},
   "source": [
    "1. Write a Python program to print \"Hello Python\"?"
   ]
  },
  {
   "cell_type": "code",
   "execution_count": 1,
   "id": "b8462a17",
   "metadata": {},
   "outputs": [
    {
     "name": "stdout",
     "output_type": "stream",
     "text": [
      "'Hello Python'\n"
     ]
    }
   ],
   "source": [
    "print(\"'Hello Python'\")"
   ]
  },
  {
   "cell_type": "raw",
   "id": "26c00bad",
   "metadata": {},
   "source": [
    "2. Write a Python program to do arithmetical operations addition and division.?"
   ]
  },
  {
   "cell_type": "code",
   "execution_count": 3,
   "id": "ea1debf1",
   "metadata": {},
   "outputs": [
    {
     "name": "stdout",
     "output_type": "stream",
     "text": [
      "value of x : 1\n",
      "value of y : 2\n",
      "3\n",
      "0.5\n"
     ]
    }
   ],
   "source": [
    "x = (int(input(\"value of x : \")))\n",
    "y =  (int(input(\"value of y : \")))\n",
    "\n",
    "print(x + y)\n",
    "\n",
    "print(x/y)"
   ]
  },
  {
   "cell_type": "raw",
   "id": "879233ec",
   "metadata": {},
   "source": [
    "3. Write a Python program to find the area of a triangle?"
   ]
  },
  {
   "cell_type": "code",
   "execution_count": 4,
   "id": "f80e017a",
   "metadata": {},
   "outputs": [
    {
     "name": "stdout",
     "output_type": "stream",
     "text": [
      "value of base : 4\n",
      "value of height : 5\n",
      "10.0\n"
     ]
    }
   ],
   "source": [
    "base=(int(input(\"value of base : \")))\n",
    "height=(int(input(\"value of height : \")))\n",
    "print(1/2*(base*height))"
   ]
  },
  {
   "cell_type": "raw",
   "id": "4fbacd4c",
   "metadata": {},
   "source": [
    "4. Write a Python program to swap two variables?"
   ]
  },
  {
   "cell_type": "code",
   "execution_count": 10,
   "id": "40ff10aa",
   "metadata": {},
   "outputs": [
    {
     "name": "stdout",
     "output_type": "stream",
     "text": [
      "value of x3\n",
      "value of y4\n",
      "x = 4\n",
      "y = 3\n"
     ]
    }
   ],
   "source": [
    "x = (int(input(\"value of x\")))\n",
    "y = (int(input('value of y')))\n",
    "\n",
    "x, y = y, x\n",
    "print(\"x =\", x)\n",
    "print(\"y =\", y)"
   ]
  },
  {
   "cell_type": "raw",
   "id": "fa9f8d9e",
   "metadata": {},
   "source": [
    "5. Write a Python program to generate a random number?"
   ]
  },
  {
   "cell_type": "code",
   "execution_count": 6,
   "id": "6a6ade4e",
   "metadata": {},
   "outputs": [
    {
     "name": "stdout",
     "output_type": "stream",
     "text": [
      "0.7087208512411812\n"
     ]
    }
   ],
   "source": [
    "import random  \n",
    "n = random.random()  \n",
    "print(n)  "
   ]
  },
  {
   "cell_type": "code",
   "execution_count": null,
   "id": "2d403870",
   "metadata": {},
   "outputs": [],
   "source": []
  }
 ],
 "metadata": {
  "kernelspec": {
   "display_name": "Python 3 (ipykernel)",
   "language": "python",
   "name": "python3"
  },
  "language_info": {
   "codemirror_mode": {
    "name": "ipython",
    "version": 3
   },
   "file_extension": ".py",
   "mimetype": "text/x-python",
   "name": "python",
   "nbconvert_exporter": "python",
   "pygments_lexer": "ipython3",
   "version": "3.9.13"
  }
 },
 "nbformat": 4,
 "nbformat_minor": 5
}
