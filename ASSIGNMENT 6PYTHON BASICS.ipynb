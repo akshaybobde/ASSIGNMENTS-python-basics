{
 "cells": [
  {
   "cell_type": "raw",
   "id": "71ae6d17",
   "metadata": {},
   "source": [
    "1. What are escape characters, and how do you use them?"
   ]
  },
  {
   "cell_type": "raw",
   "id": "ae592259",
   "metadata": {},
   "source": [
    "ANNSWER: To insert characters that are illegal in a string, use an escape character.\n",
    "         An escape character is a backslash \\ followed by the character you want to insert."
   ]
  },
  {
   "cell_type": "raw",
   "id": "d9c96059",
   "metadata": {},
   "source": [
    "2. What do the escape characters n and t stand for?"
   ]
  },
  {
   "cell_type": "raw",
   "id": "7cd41313",
   "metadata": {},
   "source": [
    "ANSWER:  \\n-New Line,  \\t-Tab"
   ]
  },
  {
   "cell_type": "raw",
   "id": "9ae5baa0",
   "metadata": {},
   "source": [
    "3. What is the way to include backslash characters in a string?"
   ]
  },
  {
   "cell_type": "raw",
   "id": "a7d9cf43",
   "metadata": {},
   "source": [
    "ANSWHER : txt = \"This will insert one \\\\ (backslash).\"\n",
    "          print(txt) \n"
   ]
  },
  {
   "cell_type": "raw",
   "id": "802ba9cc",
   "metadata": {},
   "source": [
    "4. The string \"Howl's Moving Castle\" is a correct value. Why isn't the single quote character in the\n",
    "word Howl's not escaped a problem?"
   ]
  },
  {
   "cell_type": "raw",
   "id": "b17aedaf",
   "metadata": {},
   "source": [
    "ANSWER : single Apostrophe inside double quotes .the answer should be  \"Howl\\'s Moving Castle\" "
   ]
  },
  {
   "cell_type": "raw",
   "id": "a5e14fba",
   "metadata": {},
   "source": [
    "5. How do you write a string of newlines if you don't want to use the n character?"
   ]
  },
  {
   "cell_type": "raw",
   "id": "660a9222",
   "metadata": {},
   "source": [
    "ANSWER: using a print() function print has parameter (end=) which defaults to new line character."
   ]
  },
  {
   "cell_type": "raw",
   "id": "856d1469",
   "metadata": {},
   "source": [
    "6. What are the values of the given expressions?\n",
    "'Hello, world!''[1]\n",
    "'Hello, world!'[0:5]\n",
    "'Hello, world!'[:5]\n",
    "'Hello, world!'[3:]"
   ]
  },
  {
   "cell_type": "raw",
   "id": "c279aa0a",
   "metadata": {},
   "source": [
    "ANSWER: 'Hello, world!''[1] ----e\n",
    "'Hello, world!'[0:5]------'Hello'\n",
    "'Hello, world!'[:5]------'Hello'\n",
    "'Hello, world!'[3:]------'lo, world!'"
   ]
  },
  {
   "cell_type": "raw",
   "id": "e0af2409",
   "metadata": {},
   "source": [
    "7. What are the values of the following expressions?\n",
    "'Hello'.upper()\n",
    "'Hello'.upper().isupper()\n",
    "'Hello'.upper().lower()"
   ]
  },
  {
   "cell_type": "raw",
   "id": "49eb2932",
   "metadata": {},
   "source": [
    "ANSWER: 'Hello'.upper()--------'HELLO'\n",
    "'Hello'.upper().isupper()---------True\n",
    "'Hello'.upper().lower()---------'hello'"
   ]
  },
  {
   "cell_type": "raw",
   "id": "0cc698ce",
   "metadata": {},
   "source": [
    "8. What are the values of the following expressions?\n",
    "'Remember, remember, the fifth of July.'.split()\n",
    "'-'.join('There can only one.'.split())"
   ]
  },
  {
   "cell_type": "raw",
   "id": "db4d9400",
   "metadata": {},
   "source": [
    "ANSWER: ['Remember,', 'remember,', 'the', 'fifth', 'of', 'July.']\n",
    "'There-can-only-one.'"
   ]
  },
  {
   "cell_type": "raw",
   "id": "a3fa3ac3",
   "metadata": {},
   "source": [
    "9. What are the methods for right-justifying, left-justifying, and centering a string?"
   ]
  },
  {
   "cell_type": "raw",
   "id": "327d4893",
   "metadata": {},
   "source": [
    "ANSWER:right-justifying  [.rjust()], left-justifying  [.ljust()], centering a string [.center()]"
   ]
  },
  {
   "cell_type": "raw",
   "id": "0bfc47f1",
   "metadata": {},
   "source": [
    "10. What is the best way to remove whitespace characters from the start or end?"
   ]
  },
  {
   "cell_type": "raw",
   "id": "ebd5ef9c",
   "metadata": {},
   "source": [
    "ANSWER: [.strip()]"
   ]
  }
 ],
 "metadata": {
  "kernelspec": {
   "display_name": "Python 3 (ipykernel)",
   "language": "python",
   "name": "python3"
  },
  "language_info": {
   "codemirror_mode": {
    "name": "ipython",
    "version": 3
   },
   "file_extension": ".py",
   "mimetype": "text/x-python",
   "name": "python",
   "nbconvert_exporter": "python",
   "pygments_lexer": "ipython3",
   "version": "3.9.13"
  }
 },
 "nbformat": 4,
 "nbformat_minor": 5
}
