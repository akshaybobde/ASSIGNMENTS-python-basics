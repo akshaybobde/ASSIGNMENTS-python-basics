{
 "cells": [
  {
   "cell_type": "raw",
   "id": "6183291b",
   "metadata": {},
   "source": [
    "1. What does an empty dictionary's code look like?\n",
    "ANSWER:An empty pair of curly braces {} "
   ]
  },
  {
   "cell_type": "raw",
   "id": "fe0e6b4f",
   "metadata": {},
   "source": [
    "2. What is the value of a dictionary value with the key 'foo' and the value 42?\n",
    "ANSWER:{'FOO':42}\n"
   ]
  },
  {
   "cell_type": "raw",
   "id": "7613f6d6",
   "metadata": {},
   "source": [
    "3. What is the most significant distinction between a dictionary and a list?\n",
    "ANSWER: List items are ordered, changeable, and allow duplicate values.\n",
    "A dictionary is a collection which is ordered*, changeable and do not allow duplicates."
   ]
  },
  {
   "cell_type": "raw",
   "id": "4f32ca59",
   "metadata": {},
   "source": [
    "4. What happens if you try to access spam['foo'] if spam is {'bar': 100}?\n",
    "ANSWER: ERROR"
   ]
  },
  {
   "cell_type": "raw",
   "id": "981a23ec",
   "metadata": {},
   "source": [
    "5. If a dictionary is stored in spam, what is the difference between the expressions 'cat' in spam and\n",
    "'cat' in spam.keys()?\n",
    "ANSWER: There is no difference. The in operator checks whether a value exists as a key in the dictionary."
   ]
  },
  {
   "cell_type": "raw",
   "id": "e6fe116c",
   "metadata": {},
   "source": [
    "6. If a dictionary is stored in spam, what is the difference between the expressions'cat' in spam and\n",
    "'cat' in spam.values()?\n",
    "ANSWER:'cat' in spam checks whether there is a 'cat' key in the dictionary, while 'cat' in spam.values() checks whether there is a value 'cat' for one of the keys in spam."
   ]
  },
  {
   "cell_type": "raw",
   "id": "eb8b0622",
   "metadata": {},
   "source": [
    "7. What is a shortcut for the following code?\n",
    "if 'color' not in spam:\n",
    "spam['color'] = 'black'\n",
    "ANSWER:spam.setdefault('color', 'black')"
   ]
  },
  {
   "cell_type": "raw",
   "id": "6f6cef56",
   "metadata": {},
   "source": [
    "8. How do you 'pretty print' dictionary values using which module and function?\n",
    "ANSWER:"
   ]
  }
 ],
 "metadata": {
  "kernelspec": {
   "display_name": "Python 3 (ipykernel)",
   "language": "python",
   "name": "python3"
  },
  "language_info": {
   "codemirror_mode": {
    "name": "ipython",
    "version": 3
   },
   "file_extension": ".py",
   "mimetype": "text/x-python",
   "name": "python",
   "nbconvert_exporter": "python",
   "pygments_lexer": "ipython3",
   "version": "3.9.13"
  }
 },
 "nbformat": 4,
 "nbformat_minor": 5
}
