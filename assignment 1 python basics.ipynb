{
 "cells": [
  {
   "cell_type": "raw",
   "id": "97ad7f46",
   "metadata": {},
   "source": [
    "1. In the below elements which of them are values or an expression? eg:- values can be\n",
    "integer or string and expressions will be mathematical operators.\n",
    "*\n",
    "HELLO\n",
    "-87.8\n",
    "-\n",
    "/\n",
    "+\n",
    "6\n",
    "\n",
    "ANSWER: values{-87.8,6,\"hellO\"}\n",
    "       expression{*,-,/,+}"
   ]
  },
  {
   "cell_type": "raw",
   "id": "c0234d4a",
   "metadata": {},
   "source": [
    "2. What is the difference between string and variable?\n",
    "\n",
    "ANSWER:  a String is a type of information you would store in a Variable and Variable is a store of information."
   ]
  },
  {
   "cell_type": "raw",
   "id": "1e2c5e23",
   "metadata": {},
   "source": [
    "3. Describe three different data types.\n",
    "\n",
    "Answer:Text Type:\tstr\n",
    "       Numeric Types:\tint, float, complex\n",
    "       Sequence Types:\tlist, tuple, range\n",
    "       Mapping Type:\tdict\n",
    "       Set Types:\tset, frozenset\n",
    "       Boolean Type:\tbool\n",
    "       Binary Types:\tbytes, bytearray, memoryview\n",
    "       None Type:\tNoneType"
   ]
  },
  {
   "cell_type": "raw",
   "id": "55705ad2",
   "metadata": {},
   "source": [
    "4. What is an expression made up of? What do all expressions do?\n",
    "Answer: A combination of operands and operators(+,-,/,*) \n",
    "        The expression in Python produces some value or result after being interpreted by the Python interpreter."
   ]
  },
  {
   "cell_type": "raw",
   "id": "cbfb0335",
   "metadata": {},
   "source": [
    "5. This assignment statements, like spam = 10. What is the difference between an\n",
    "expression and a statement?\n",
    "\n",
    "Answer:“expression” is a combination of values and functions that are combined and interpreted by the compiler to create a new           value. \n",
    "\n",
    "        A statement is not evaluated for some results. A statement is used for creating variables or for displaying values.\n",
    "       “statement” is just a standalone unit of execution and doesn't return anything."
   ]
  },
  {
   "cell_type": "raw",
   "id": "50db2f73",
   "metadata": {},
   "source": [
    "6. After running the following code, what does the variable bacon contain?\n",
    "bacon = 22\n",
    "bacon + 1\n",
    "\n",
    "Answer: bacon=22"
   ]
  },
  {
   "cell_type": "raw",
   "id": "f1f95f93",
   "metadata": {},
   "source": [
    "7. What should the values of the following two terms be?\n",
    "spam + spamspam\n",
    "spam * 3\n",
    "\n",
    "ANSWER: Both expressions evaluate to the string 'spamspamspam'"
   ]
  },
  {
   "cell_type": "raw",
   "id": "01ba17ad",
   "metadata": {},
   "source": [
    "8. Why is eggs a valid variable name while 100 is invalid?\n",
    "\n",
    "Answer: variable name cannot start with an interger"
   ]
  },
  {
   "cell_type": "raw",
   "id": "ccecb5bf",
   "metadata": {},
   "source": [
    "9. What three functions can be used to get the integer, floating-point number, or string\n",
    "version of a value?\n",
    "\n",
    "Answer:int(),float(),str()"
   ]
  },
  {
   "cell_type": "raw",
   "id": "6efb4791",
   "metadata": {},
   "source": [
    "10. Why does this expression cause an error? How can you fix it?\n",
    "'I have eaten' + 99 + 'burritos'\n",
    "\n",
    "Answwer: 99 is a number not a string,\n",
    "        [fix]- 'I have eaten' + '99' + 'burritos'\n"
   ]
  }
 ],
 "metadata": {
  "kernelspec": {
   "display_name": "Python 3 (ipykernel)",
   "language": "python",
   "name": "python3"
  },
  "language_info": {
   "codemirror_mode": {
    "name": "ipython",
    "version": 3
   },
   "file_extension": ".py",
   "mimetype": "text/x-python",
   "name": "python",
   "nbconvert_exporter": "python",
   "pygments_lexer": "ipython3",
   "version": "3.9.13"
  }
 },
 "nbformat": 4,
 "nbformat_minor": 5
}
